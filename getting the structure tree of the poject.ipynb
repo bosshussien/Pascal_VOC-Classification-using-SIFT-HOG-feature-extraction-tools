{
 "cells": [
  {
   "cell_type": "code",
   "execution_count": 2,
   "id": "2fb6803d",
   "metadata": {},
   "outputs": [
    {
     "name": "stdout",
     "output_type": "stream",
     "text": [
      "Folder structure saved to folder_structure.txt\n"
     ]
    }
   ],
   "source": [
    "import os\n",
    "\n",
    "def print_tree(startpath, indent=\"\", output_file=None):\n",
    "    for item in os.listdir(startpath):\n",
    "        path = os.path.join(startpath, item)\n",
    "        line = indent + \"|-- \" + item + \"\\n\"\n",
    "        if output_file:\n",
    "            output_file.write(line)\n",
    "        else:\n",
    "            print(line, end=\"\")\n",
    "        if os.path.isdir(path):\n",
    "            print_tree(path, indent + \"    \", output_file)\n",
    "\n",
    "# Replace 'pascal_voc' with the path to your pascal_voc folder\n",
    "output_path = \"folder_structure.txt\"  # Output file name\n",
    "with open(output_path, \"w\") as f:\n",
    "    print_tree('pascal_voc', output_file=f)\n",
    "\n",
    "print(f\"Folder structure saved to {output_path}\")"
   ]
  },
  {
   "cell_type": "code",
   "execution_count": 3,
   "id": "084a964c",
   "metadata": {},
   "outputs": [
    {
     "name": "stdout",
     "output_type": "stream",
     "text": [
      "Folder structure saved to folder_structure.txt\n"
     ]
    }
   ],
   "source": [
    "import os\n",
    "\n",
    "def print_tree(startpath, indent=\"\", output_file=None):\n",
    "    for item in os.listdir(startpath):\n",
    "        path = os.path.join(startpath, item)\n",
    "        if os.path.isdir(path):  # Only process directories\n",
    "            line = indent + \"|-- \" + item + \"\\n\"\n",
    "            if output_file:\n",
    "                output_file.write(line)\n",
    "            else:\n",
    "                print(line, end=\"\")\n",
    "            print_tree(path, indent + \"    \", output_file)\n",
    "\n",
    "# Replace 'pascal_voc' with the path to your pascal_voc folder\n",
    "output_path = \"folder_structure.txt\"  # Output file name\n",
    "with open(output_path, \"w\") as f:\n",
    "    print_tree('pascal_voc', output_file=f)\n",
    "\n",
    "print(f\"Folder structure saved to {output_path}\")"
   ]
  },
  {
   "cell_type": "code",
   "execution_count": 4,
   "id": "5265c8fa",
   "metadata": {},
   "outputs": [
    {
     "name": "stdout",
     "output_type": "stream",
     "text": [
      "Folder structure with metadata saved to folder_structure_with_metadata.txt\n"
     ]
    }
   ],
   "source": [
    "import os\n",
    "from collections import Counter\n",
    "\n",
    "def print_tree_with_metadata(startpath, indent=\"\", output_file=None):\n",
    "    for item in os.listdir(startpath):\n",
    "        path = os.path.join(startpath, item)\n",
    "        if os.path.isdir(path):  # Only process directories\n",
    "            # Count file types in the directory\n",
    "            file_types = Counter([os.path.splitext(f)[1] for f in os.listdir(path) if os.path.isfile(os.path.join(path, f))])\n",
    "            file_summary = \", \".join([f\"{ext if ext else 'no_ext'}: {count}\" for ext, count in file_types.items()])\n",
    "            line = f\"{indent}|-- {item} ({file_summary})\\n\"\n",
    "            if output_file:\n",
    "                output_file.write(line)\n",
    "            else:\n",
    "                print(line, end=\"\")\n",
    "            print_tree_with_metadata(path, indent + \"    \", output_file)\n",
    "\n",
    "# Replace 'pascal_voc' with the path to your pascal_voc folder\n",
    "output_path = \"folder_structure_with_metadata.txt\"  # Output file name\n",
    "with open(output_path, \"w\") as f:\n",
    "    print_tree_with_metadata('pascal_voc', output_file=f)\n",
    "\n",
    "print(f\"Folder structure with metadata saved to {output_path}\")"
   ]
  },
  {
   "cell_type": "code",
   "execution_count": null,
   "id": "e0032648",
   "metadata": {},
   "outputs": [],
   "source": []
  }
 ],
 "metadata": {
  "kernelspec": {
   "display_name": "Python 3",
   "language": "python",
   "name": "python3"
  },
  "language_info": {
   "codemirror_mode": {
    "name": "ipython",
    "version": 3
   },
   "file_extension": ".py",
   "mimetype": "text/x-python",
   "name": "python",
   "nbconvert_exporter": "python",
   "pygments_lexer": "ipython3",
   "version": "3.10.4"
  }
 },
 "nbformat": 4,
 "nbformat_minor": 5
}
